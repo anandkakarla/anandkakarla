{
 "cells": [
  {
   "cell_type": "markdown",
   "metadata": {},
   "source": [
    "<center>\n",
    "    <img src=\"https://gitlab.com/ibm/skills-network/courses/placeholder101/-/raw/master/labs/module%201/images/IDSNlogo.png\" width=\"300\" alt=\"cognitiveclass.ai logo\"  />\n",
    "</center>\n"
   ]
  },
  {
   "cell_type": "markdown",
   "metadata": {},
   "source": [
    "# **Space X  Falcon 9 First Stage Landing Prediction**\n"
   ]
  },
  {
   "cell_type": "markdown",
   "metadata": {},
   "source": [
    "## Web scraping Falcon 9 and Falcon Heavy Launches Records from Wikipedia\n"
   ]
  },
  {
   "cell_type": "markdown",
   "metadata": {},
   "source": [
    "Estimated time needed: **40** minutes\n"
   ]
  },
  {
   "cell_type": "markdown",
   "metadata": {},
   "source": [
    "In this lab, you will be performing web scraping to collect Falcon 9 historical launch records from a Wikipedia page titled `List of Falcon 9 and Falcon Heavy launches`\n",
    "\n",
    "[https://en.wikipedia.org/wiki/List_of_Falcon\\_9\\_and_Falcon_Heavy_launches](https://en.wikipedia.org/wiki/List_of_Falcon\\_9\\_and_Falcon_Heavy_launches?utm_medium=Exinfluencer&utm_source=Exinfluencer&utm_content=000026UJ&utm_term=10006555&utm_id=NA-SkillsNetwork-Channel-SkillsNetworkCoursesIBMDS0321ENSkillsNetwork26802033-2021-01-01)\n"
   ]
  },
  {
   "cell_type": "markdown",
   "metadata": {},
   "source": [
    "![](https://cf-courses-data.s3.us.cloud-object-storage.appdomain.cloud/IBM-DS0321EN-SkillsNetwork/labs/module\\_1\\_L2/images/Falcon9\\_rocket_family.svg)\n"
   ]
  },
  {
   "cell_type": "markdown",
   "metadata": {},
   "source": [
    "Falcon 9 first stage will land successfully\n"
   ]
  },
  {
   "cell_type": "markdown",
   "metadata": {},
   "source": [
    "![](https://cf-courses-data.s3.us.cloud-object-storage.appdomain.cloud/IBMDeveloperSkillsNetwork-DS0701EN-SkillsNetwork/api/Images/landing\\_1.gif)\n"
   ]
  },
  {
   "cell_type": "markdown",
   "metadata": {},
   "source": [
    "Several examples of an unsuccessful landing are shown here:\n"
   ]
  },
  {
   "cell_type": "markdown",
   "metadata": {},
   "source": [
    "![](https://cf-courses-data.s3.us.cloud-object-storage.appdomain.cloud/IBMDeveloperSkillsNetwork-DS0701EN-SkillsNetwork/api/Images/crash.gif)\n"
   ]
  },
  {
   "cell_type": "markdown",
   "metadata": {},
   "source": [
    "More specifically, the launch records are stored in a HTML table shown below:\n"
   ]
  },
  {
   "cell_type": "markdown",
   "metadata": {},
   "source": [
    "![](https://cf-courses-data.s3.us.cloud-object-storage.appdomain.cloud/IBM-DS0321EN-SkillsNetwork/labs/module\\_1\\_L2/images/falcon9-launches-wiki.png)\n"
   ]
  },
  {
   "cell_type": "markdown",
   "metadata": {},
   "source": [
    "## Objectives\n",
    "\n",
    "Web scrap Falcon 9 launch records with `BeautifulSoup`:\n",
    "\n",
    "*   Extract a Falcon 9 launch records HTML table from Wikipedia\n",
    "*   Parse the table and convert it into a Pandas data frame\n"
   ]
  },
  {
   "cell_type": "markdown",
   "metadata": {},
   "source": [
    "First let's import required packages for this lab\n"
   ]
  },
  {
   "cell_type": "code",
   "execution_count": 1,
   "metadata": {},
   "outputs": [
    {
     "name": "stdout",
     "output_type": "stream",
     "text": [
      "Requirement already satisfied: beautifulsoup4 in d:\\installations\\anaconda\\lib\\site-packages (4.10.0)\n",
      "Requirement already satisfied: soupsieve>1.2 in d:\\installations\\anaconda\\lib\\site-packages (from beautifulsoup4) (2.3.1)\n",
      "Requirement already satisfied: requests in d:\\installations\\anaconda\\lib\\site-packages (2.27.1)\n",
      "Requirement already satisfied: idna<4,>=2.5 in d:\\installations\\anaconda\\lib\\site-packages (from requests) (3.3)\n",
      "Requirement already satisfied: urllib3<1.27,>=1.21.1 in d:\\installations\\anaconda\\lib\\site-packages (from requests) (1.26.8)\n",
      "Requirement already satisfied: certifi>=2017.4.17 in d:\\installations\\anaconda\\lib\\site-packages (from requests) (2021.10.8)\n",
      "Requirement already satisfied: charset-normalizer~=2.0.0 in d:\\installations\\anaconda\\lib\\site-packages (from requests) (2.0.4)\n"
     ]
    }
   ],
   "source": [
    "!pip3 install beautifulsoup4\n",
    "!pip3 install requests"
   ]
  },
  {
   "cell_type": "code",
   "execution_count": 2,
   "metadata": {},
   "outputs": [],
   "source": [
    "import sys\n",
    "\n",
    "import requests\n",
    "from bs4 import BeautifulSoup\n",
    "import re\n",
    "import unicodedata\n",
    "import pandas as pd"
   ]
  },
  {
   "cell_type": "markdown",
   "metadata": {},
   "source": [
    "and we will provide some helper functions for you to process web scraped HTML table\n"
   ]
  },
  {
   "cell_type": "code",
   "execution_count": 3,
   "metadata": {},
   "outputs": [],
   "source": [
    "def date_time(table_cells):\n",
    "    \"\"\"\n",
    "    This function returns the data and time from the HTML  table cell\n",
    "    Input: the  element of a table data cell extracts extra row\n",
    "    \"\"\"\n",
    "    return [data_time.strip() for data_time in list(table_cells.strings)][0:2]\n",
    "\n",
    "def booster_version(table_cells):\n",
    "    \"\"\"\n",
    "    This function returns the booster version from the HTML  table cell \n",
    "    Input: the  element of a table data cell extracts extra row\n",
    "    \"\"\"\n",
    "    out=''.join([booster_version for i,booster_version in enumerate( table_cells.strings) if i%2==0][0:-1])\n",
    "    return out\n",
    "\n",
    "def landing_status(table_cells):\n",
    "    \"\"\"\n",
    "    This function returns the landing status from the HTML table cell \n",
    "    Input: the  element of a table data cell extracts extra row\n",
    "    \"\"\"\n",
    "    out=[i for i in table_cells.strings][0]\n",
    "    return out\n",
    "\n",
    "\n",
    "def get_mass(table_cells):\n",
    "    mass=unicodedata.normalize(\"NFKD\", table_cells.text).strip()\n",
    "    if mass:\n",
    "        mass.find(\"kg\")\n",
    "        new_mass=mass[0:mass.find(\"kg\")+2]\n",
    "    else:\n",
    "        new_mass=0\n",
    "    return new_mass\n",
    "\n",
    "\n",
    "def extract_column_from_header(row):\n",
    "    \"\"\"\n",
    "    This function returns the landing status from the HTML table cell \n",
    "    Input: the  element of a table data cell extracts extra row\n",
    "    \"\"\"\n",
    "    if (row.br):\n",
    "        row.br.extract()\n",
    "    if row.a:\n",
    "        row.a.extract()\n",
    "    if row.sup:\n",
    "        row.sup.extract()\n",
    "        \n",
    "    colunm_name = ' '.join(row.contents)\n",
    "    \n",
    "    # Filter the digit and empty names\n",
    "    if not(colunm_name.strip().isdigit()):\n",
    "        colunm_name = colunm_name.strip()\n",
    "        return colunm_name    \n"
   ]
  },
  {
   "cell_type": "markdown",
   "metadata": {},
   "source": [
    "To keep the lab tasks consistent, you will be asked to scrape the data from a snapshot of the  `List of Falcon 9 and Falcon Heavy launches` Wikipage updated on\n",
    "`9th June 2021`\n"
   ]
  },
  {
   "cell_type": "code",
   "execution_count": 4,
   "metadata": {},
   "outputs": [],
   "source": [
    "static_url = \"https://en.wikipedia.org/w/index.php?title=List_of_Falcon_9_and_Falcon_Heavy_launches&oldid=1027686922\""
   ]
  },
  {
   "cell_type": "markdown",
   "metadata": {},
   "source": [
    "Next, request the HTML page from the above URL and get a `response` object\n"
   ]
  },
  {
   "cell_type": "markdown",
   "metadata": {},
   "source": [
    "### TASK 1: Request the Falcon9 Launch Wiki page from its URL\n"
   ]
  },
  {
   "cell_type": "markdown",
   "metadata": {},
   "source": [
    "First, let's perform an HTTP GET method to request the Falcon9 Launch HTML page, as an HTTP response.\n"
   ]
  },
  {
   "cell_type": "code",
   "execution_count": 5,
   "metadata": {},
   "outputs": [],
   "source": [
    "# use requests.get() method with the provided static_url\n",
    "# assign the response to a object\n",
    "response=requests.get(static_url)"
   ]
  },
  {
   "cell_type": "markdown",
   "metadata": {},
   "source": [
    "Create a `BeautifulSoup` object from the HTML `response`\n"
   ]
  },
  {
   "cell_type": "code",
   "execution_count": 6,
   "metadata": {},
   "outputs": [],
   "source": [
    "# Use BeautifulSoup() to create a BeautifulSoup object from a response text content\n",
    "soup = BeautifulSoup(response.text, \"html.parser\")\n"
   ]
  },
  {
   "cell_type": "markdown",
   "metadata": {},
   "source": [
    "Print the page title to verify if the `BeautifulSoup` object was created properly\n"
   ]
  },
  {
   "cell_type": "code",
   "execution_count": 7,
   "metadata": {},
   "outputs": [
    {
     "data": {
      "text/plain": [
       "<title>List of Falcon 9 and Falcon Heavy launches - Wikipedia</title>"
      ]
     },
     "execution_count": 7,
     "metadata": {},
     "output_type": "execute_result"
    }
   ],
   "source": [
    "# Use soup.title attribute\n",
    "soup.title"
   ]
  },
  {
   "cell_type": "markdown",
   "metadata": {},
   "source": [
    "### TASK 2: Extract all column/variable names from the HTML table header\n"
   ]
  },
  {
   "cell_type": "markdown",
   "metadata": {},
   "source": [
    "Next, we want to collect all relevant column names from the HTML table header\n"
   ]
  },
  {
   "cell_type": "markdown",
   "metadata": {},
   "source": [
    "Let's try to find all tables on the wiki page first. If you need to refresh your memory about `BeautifulSoup`, please check the external reference link towards the end of this lab\n"
   ]
  },
  {
   "cell_type": "code",
   "execution_count": 8,
   "metadata": {},
   "outputs": [],
   "source": [
    "# Use the find_all function in the BeautifulSoup object, with element type `table`\n",
    "# Assign the result to a list called `html_tables`\n",
    "html_tables=soup.find_all(\"table\")"
   ]
  },
  {
   "cell_type": "markdown",
   "metadata": {},
   "source": [
    "Starting from the third table is our target table contains the actual launch records.\n"
   ]
  },
  {
   "cell_type": "code",
   "execution_count": 9,
   "metadata": {},
   "outputs": [],
   "source": [
    "# Let's print the third table and check its content\n",
    "first_launch_table = html_tables[2]\n",
    "A=first_launch_table.find_all('th')"
   ]
  },
  {
   "cell_type": "markdown",
   "metadata": {},
   "source": [
    "You should able to see the columns names embedded in the table header elements `<th>` as follows:\n"
   ]
  },
  {
   "cell_type": "markdown",
   "metadata": {},
   "source": [
    "```\n",
    "<tr>\n",
    "<th scope=\"col\">Flight No.\n",
    "</th>\n",
    "<th scope=\"col\">Date and<br/>time (<a href=\"/wiki/Coordinated_Universal_Time\" title=\"Coordinated Universal Time\">UTC</a>)\n",
    "</th>\n",
    "<th scope=\"col\"><a href=\"/wiki/List_of_Falcon_9_first-stage_boosters\" title=\"List of Falcon 9 first-stage boosters\">Version,<br/>Booster</a> <sup class=\"reference\" id=\"cite_ref-booster_11-0\"><a href=\"#cite_note-booster-11\">[b]</a></sup>\n",
    "</th>\n",
    "<th scope=\"col\">Launch site\n",
    "</th>\n",
    "<th scope=\"col\">Payload<sup class=\"reference\" id=\"cite_ref-Dragon_12-0\"><a href=\"#cite_note-Dragon-12\">[c]</a></sup>\n",
    "</th>\n",
    "<th scope=\"col\">Payload mass\n",
    "</th>\n",
    "<th scope=\"col\">Orbit\n",
    "</th>\n",
    "<th scope=\"col\">Customer\n",
    "</th>\n",
    "<th scope=\"col\">Launch<br/>outcome\n",
    "</th>\n",
    "<th scope=\"col\"><a href=\"/wiki/Falcon_9_first-stage_landing_tests\" title=\"Falcon 9 first-stage landing tests\">Booster<br/>landing</a>\n",
    "</th></tr>\n",
    "```\n"
   ]
  },
  {
   "cell_type": "markdown",
   "metadata": {},
   "source": [
    "Next, we just need to iterate through the `<th>` elements and apply the provided `extract_column_from_header()` to extract column name one by one\n"
   ]
  },
  {
   "cell_type": "code",
   "execution_count": 11,
   "metadata": {},
   "outputs": [],
   "source": [
    "# Apply find_all() function with `th` element on first_launch_table\n",
    "# Iterate each th element and apply the provided extract_column_from_header() to get a column name\n",
    "# Append the Non-empty column name (`if name is not None and len(name) > 0`) into a list called column_names\n",
    "\n",
    "column_names = []\n",
    "for ss in first_launch_table.find_all('th'):\n",
    "    clnm=extract_column_from_header(ss)\n",
    "    if clnm!=None and len(clnm) > 0:\n",
    "        column_names.append(clnm)\n",
    "        "
   ]
  },
  {
   "cell_type": "markdown",
   "metadata": {},
   "source": [
    "Check the extracted column names\n"
   ]
  },
  {
   "cell_type": "code",
   "execution_count": 12,
   "metadata": {},
   "outputs": [
    {
     "name": "stdout",
     "output_type": "stream",
     "text": [
      "['Flight No.', 'Date and time ( )', 'Launch site', 'Payload', 'Payload mass', 'Orbit', 'Customer', 'Launch outcome']\n"
     ]
    }
   ],
   "source": [
    "print(column_names)"
   ]
  },
  {
   "cell_type": "markdown",
   "metadata": {},
   "source": [
    "## TASK 3: Create a data frame by parsing the launch HTML tables\n"
   ]
  },
  {
   "cell_type": "markdown",
   "metadata": {},
   "source": [
    "We will create an empty dictionary with keys from the extracted column names in the previous task. Later, this dictionary will be converted into a Pandas dataframe\n"
   ]
  },
  {
   "cell_type": "code",
   "execution_count": 76,
   "metadata": {},
   "outputs": [],
   "source": [
    "launch_dict= dict.fromkeys(column_names)\n",
    "\n",
    "# Remove an irrelvant column\n",
    "del launch_dict['Date and time ( )']\n",
    "\n",
    "# Let's initial the launch_dict with each value to be an empty list\n",
    "launch_dict['Flight No.'] = []\n",
    "launch_dict['Launch site'] = []\n",
    "launch_dict['Payload'] = []\n",
    "launch_dict['Payload mass'] = []\n",
    "launch_dict['Orbit'] = []\n",
    "launch_dict['Customer'] = []\n",
    "launch_dict['Launch outcome'] = []\n",
    "# Added some new columns\n",
    "launch_dict['Version Booster']=[]\n",
    "launch_dict['Booster landing']=[]\n",
    "launch_dict['Date']=[]\n",
    "launch_dict['Time']=[]"
   ]
  },
  {
   "cell_type": "markdown",
   "metadata": {},
   "source": [
    "Next, we just need to fill up the `launch_dict` with launch records extracted from table rows.\n"
   ]
  },
  {
   "cell_type": "markdown",
   "metadata": {},
   "source": [
    "Usually, HTML tables in Wiki pages are likely to contain unexpected annotations and other types of noises, such as reference links `B0004.1[8]`, missing values `N/A [e]`, inconsistent formatting, etc.\n"
   ]
  },
  {
   "cell_type": "markdown",
   "metadata": {},
   "source": [
    "To simplify the parsing process, we have provided an incomplete code snippet below to help you to fill up the `launch_dict`. Please complete the following code snippet with TODOs or you can choose to write your own logic to parse all launch tables:\n"
   ]
  },
  {
   "cell_type": "code",
   "execution_count": 77,
   "metadata": {},
   "outputs": [
    {
     "name": "stdout",
     "output_type": "stream",
     "text": [
      "1 <a href=\"/wiki/SpaceX\" title=\"SpaceX\">SpaceX</a> 11 False 2 LEO 3 <td>4 June 2010,<br/>18:45\n",
      "</td>\n",
      "1 <a href=\"/wiki/NASA\" title=\"NASA\">NASA</a> 11 False 2 LEO 3 <td>8 December 2010,<br/>15:43<sup class=\"reference\" id=\"cite_ref-spaceflightnow_Clark_Launch_Report_19-0\"><a href=\"#cite_note-spaceflightnow_Clark_Launch_Report-19\">[13]</a></sup>\n",
      "</td>\n",
      "1 <a href=\"/wiki/NASA\" title=\"NASA\">NASA</a> 11 False 2 LEO 3 <td>22 May 2012,<br/>07:44<sup class=\"reference\" id=\"cite_ref-BBC_new_era_23-0\"><a href=\"#cite_note-BBC_new_era-23\">[17]</a></sup>\n",
      "</td>\n",
      "1 <a href=\"/wiki/NASA\" title=\"NASA\">NASA</a> 11 False 2 LEO 3 <td rowspan=\"2\">8 October 2012,<br/>00:35<sup class=\"reference\" id=\"cite_ref-SFN_LLog_27-0\"><a href=\"#cite_note-SFN_LLog-27\">[21]</a></sup>\n",
      "</td>\n",
      "1 <a href=\"/wiki/NASA\" title=\"NASA\">NASA</a> 11 False 2 LEO 3 <td>1 March 2013,<br/>15:10\n",
      "</td>\n",
      "1 <a href=\"/wiki/Maxar_Technologies\" title=\"Maxar Technologies\">MDA</a> 11 False 2 Polar orbit 3 <td>29 September 2013,<br/>16:00<sup class=\"reference\" id=\"cite_ref-pa20130930_36-0\"><a href=\"#cite_note-pa20130930-36\">[30]</a></sup>\n",
      "</td>\n",
      "1 <a href=\"/wiki/SES_S.A.\" title=\"SES S.A.\">SES</a> 11 False 2 GTO 3 <td>3 December 2013,<br/>22:41<sup class=\"reference\" id=\"cite_ref-sfn_wwls20130624_41-0\"><a href=\"#cite_note-sfn_wwls20130624-41\">[34]</a></sup>\n",
      "</td>\n",
      "1 <a href=\"/wiki/Thaicom\" title=\"Thaicom\">Thaicom</a> 11 False 2 GTO 3 <td>6 January 2014,<br/>22:06<sup class=\"reference\" id=\"cite_ref-NASA_Spaceflight_48-0\"><a href=\"#cite_note-NASA_Spaceflight-48\">[41]</a></sup>\n",
      "</td>\n",
      "1 <a href=\"/wiki/NASA\" title=\"NASA\">NASA</a> 11 False 2 LEO 3 <td>18 April 2014,<br/>19:25<sup class=\"reference\" id=\"cite_ref-SFN_LLog_27-1\"><a href=\"#cite_note-SFN_LLog-27\">[21]</a></sup>\n",
      "</td>\n",
      "1 <a href=\"/wiki/Orbcomm\" title=\"Orbcomm\">Orbcomm</a> 11 False 2 LEO 3 <td>14 July 2014,<br/>15:15\n",
      "</td>\n",
      "1 <a href=\"/wiki/AsiaSat\" title=\"AsiaSat\">AsiaSat</a> 11 False 2 GTO 3 <td>5 August 2014,<br/>08:00\n",
      "</td>\n",
      "1 <a href=\"/wiki/AsiaSat\" title=\"AsiaSat\">AsiaSat</a> 11 False 2 GTO 3 <td>7 September 2014,<br/>05:00\n",
      "</td>\n",
      "1 <a href=\"/wiki/NASA\" title=\"NASA\">NASA</a> 11 False 2 LEO 3 <td>21 September 2014,<br/>05:52<sup class=\"reference\" id=\"cite_ref-SFN_LLog_27-2\"><a href=\"#cite_note-SFN_LLog-27\">[21]</a></sup>\n",
      "</td>\n",
      "1 <a href=\"/wiki/NASA\" title=\"NASA\">NASA</a> 11 False 2 LEO 3 <td>10 January 2015,<br/>09:47<sup class=\"reference\" id=\"cite_ref-nasa20150107_74-0\"><a href=\"#cite_note-nasa20150107-74\">[67]</a></sup>\n",
      "</td>\n",
      "1 <a href=\"/wiki/United_States_Air_Force\" title=\"United States Air Force\">USAF</a> 11 False 2 HEO 3 <td>11 February 2015,<br/>23:03<sup class=\"reference\" id=\"cite_ref-79\"><a href=\"#cite_note-79\">[72]</a></sup>\n",
      "</td>\n",
      "1 <a class=\"mw-redirect\" href=\"/wiki/Asia_Broadcast_Satellite\" title=\"Asia Broadcast Satellite\">ABS</a> 11 False 2 GTO 3 <td>2 March 2015,<br/>03:50<sup class=\"reference\" id=\"cite_ref-SFN_LLog_27-3\"><a href=\"#cite_note-SFN_LLog-27\">[21]</a></sup><sup class=\"reference\" id=\"cite_ref-patrickafmil02142015_83-0\"><a href=\"#cite_note-patrickafmil02142015-83\">[76]</a></sup>\n",
      "</td>\n",
      "1 <a href=\"/wiki/NASA\" title=\"NASA\">NASA</a> 11 False 2 LEO 3 <td>14 April 2015,<br/>20:10<sup class=\"reference\" id=\"cite_ref-SFN_LLog_27-4\"><a href=\"#cite_note-SFN_LLog-27\">[21]</a></sup>\n",
      "</td>\n",
      "1 <a href=\"/wiki/Turkmenistan_National_Space_Agency\" title=\"Turkmenistan National Space Agency\">Turkmenistan National<br/>Space Agency</a> 11 False 2 GTO 3 <td>27 April 2015,<br/>23:03<sup class=\"reference\" id=\"cite_ref-patrickafb20150414_93-0\"><a href=\"#cite_note-patrickafb20150414-93\">[86]</a></sup>\n",
      "</td>\n",
      "1 <a href=\"/wiki/NASA\" title=\"NASA\">NASA</a> 11 False 2 LEO 3 <td>28 June 2015,<br/>14:21<sup class=\"reference\" id=\"cite_ref-SFN_LLog_27-5\"><a href=\"#cite_note-SFN_LLog-27\">[21]</a></sup><sup class=\"reference\" id=\"cite_ref-nasama20150520_98-0\"><a href=\"#cite_note-nasama20150520-98\">[91]</a></sup>\n",
      "</td>\n",
      "1 <a href=\"/wiki/Orbcomm\" title=\"Orbcomm\">Orbcomm</a> 11 False 2 LEO 3 <td>22 December 2015,<br/>01:29<sup class=\"reference\" id=\"cite_ref-orbcomm-og2_104-0\"><a href=\"#cite_note-orbcomm-og2-104\">[97]</a></sup>\n",
      "</td>\n",
      "1 <a href=\"/wiki/NASA\" title=\"NASA\">NASA</a> 11 False 2 LEO 3 <td>17 January 2016,<br/>18:42<sup class=\"reference\" id=\"cite_ref-SFN_LLog_27-6\"><a href=\"#cite_note-SFN_LLog-27\">[21]</a></sup>\n",
      "</td>\n",
      "1 <a href=\"/wiki/SES_S.A.\" title=\"SES S.A.\">SES</a> 11 False 2 GTO 3 <td>4 March 2016,<br/>23:35<sup class=\"reference\" id=\"cite_ref-SFN_LLog_27-7\"><a href=\"#cite_note-SFN_LLog-27\">[21]</a></sup>\n",
      "</td>\n",
      "1 <a href=\"/wiki/NASA\" title=\"NASA\">NASA</a> 11 False 2 LEO 3 <td>8 April 2016,<br/>20:43<sup class=\"reference\" id=\"cite_ref-SFN_LLog_27-8\"><a href=\"#cite_note-SFN_LLog-27\">[21]</a></sup>\n",
      "</td>\n",
      "1 <a href=\"/wiki/SKY_Perfect_JSAT\" title=\"SKY Perfect JSAT\">SKY Perfect JSAT Group</a> 11 False 2 GTO 3 <td>6 May 2016,<br/>05:21<sup class=\"reference\" id=\"cite_ref-SFN_LLog_27-9\"><a href=\"#cite_note-SFN_LLog-27\">[21]</a></sup>\n",
      "</td>\n",
      "1 <a href=\"/wiki/Thaicom\" title=\"Thaicom\">Thaicom</a> 11 False 2 GTO 3 <td>27 May 2016,<br/>21:39<sup class=\"reference\" id=\"cite_ref-135\"><a href=\"#cite_note-135\">[128]</a></sup>\n",
      "</td>\n",
      "1 <a class=\"mw-redirect\" href=\"/wiki/Asia_Broadcast_Satellite\" title=\"Asia Broadcast Satellite\">ABS</a> 11 False 2 GTO 3 <td>15 June 2016,<br/>14:29<sup class=\"reference\" id=\"cite_ref-SFN_LLog_27-10\"><a href=\"#cite_note-SFN_LLog-27\">[21]</a></sup>\n",
      "</td>\n",
      "1 <a href=\"/wiki/NASA\" title=\"NASA\">NASA</a> 11 False 2 LEO 3 <td>18 July 2016,<br/>04:45<sup class=\"reference\" id=\"cite_ref-SFN_LLog_27-11\"><a href=\"#cite_note-SFN_LLog-27\">[21]</a></sup>\n",
      "</td>\n",
      "1 <a class=\"mw-redirect\" href=\"/wiki/SKY_Perfect_JSAT_Group\" title=\"SKY Perfect JSAT Group\">SKY Perfect JSAT Group</a> 11 False 2 GTO 3 <td>14 August 2016,<br/>05:26\n",
      "</td>\n",
      "1 <a href=\"/wiki/Iridium_Communications\" title=\"Iridium Communications\">Iridium Communications</a> 11 False 2 Polar 3 <td>14 January 2017,<br/>17:54\n",
      "</td>\n",
      "1 <a href=\"/wiki/NASA\" title=\"NASA\">NASA</a> 11 False 2 LEO 3 <td>19 February 2017,<br/>14:39\n",
      "</td>\n",
      "1 <a href=\"/wiki/EchoStar\" title=\"EchoStar\">EchoStar</a> 11 False 2 GTO 3 <td>16 March 2017,<br/>06:00\n",
      "</td>\n",
      "1 <a href=\"/wiki/SES_S.A.\" title=\"SES S.A.\">SES</a> 11 False 2 GTO 3 <td>30 March 2017,<br/>22:27\n",
      "</td>\n",
      "1 <a href=\"/wiki/National_Reconnaissance_Office\" title=\"National Reconnaissance Office\">NRO</a> 11 False 2 LEO 3 <td>1 May 2017,<br/>11:15\n",
      "</td>\n",
      "1 <a href=\"/wiki/Inmarsat\" title=\"Inmarsat\">Inmarsat</a> 11 False 2 GTO 3 <td>15 May 2017,<br/>23:21\n",
      "</td>\n",
      "1 <a href=\"/wiki/NASA\" title=\"NASA\">NASA</a> 11 False 2 LEO 3 <td>3 June 2017,<br/>21:07\n",
      "</td>\n",
      "1 <a href=\"/wiki/Bulsatcom\" title=\"Bulsatcom\">Bulsatcom</a> 11 False 2 GTO 3 <td>23 June 2017,<br/>19:10\n",
      "</td>\n",
      "1 <a href=\"/wiki/Iridium_Communications\" title=\"Iridium Communications\">Iridium Communications</a> 11 False 2 LEO 3 <td>25 June 2017,<br/>20:25\n",
      "</td>\n",
      "1 <a href=\"/wiki/Intelsat\" title=\"Intelsat\">Intelsat</a> 11 False 2 GTO 3 <td>5 July 2017,<br/>23:38\n",
      "</td>\n",
      "1 <a href=\"/wiki/NASA\" title=\"NASA\">NASA</a> 11 False 2 LEO 3 <td>14 August 2017,<br/>16:31\n",
      "</td>\n",
      "1 <a href=\"/wiki/National_Space_Organization\" title=\"National Space Organization\">NSPO</a> 11 False 2 SSO 3 <td>24 August 2017,<br/>18:51\n",
      "</td>\n",
      "1 <a href=\"/wiki/United_States_Air_Force\" title=\"United States Air Force\">USAF</a> 11 False 2 LEO 3 <td>7 September 2017,<br/>14:00<sup class=\"reference\" id=\"cite_ref-223\"><a href=\"#cite_note-223\">[215]</a></sup>\n",
      "</td>\n",
      "1 <a href=\"/wiki/Iridium_Communications\" title=\"Iridium Communications\">Iridium Communications</a> 11 False 2 Polar 3 <td>9 October 2017,<br/>12:37\n",
      "</td>\n",
      "1 <a href=\"/wiki/SES_S.A.\" title=\"SES S.A.\">SES S.A.</a> 11 False 2 GTO 3 <td>11 October 2017,<br/>22:53:00\n",
      "</td>\n",
      "1 <a href=\"/wiki/KT_Corporation\" title=\"KT Corporation\">KT Corporation</a> 11 False 2 GTO 3 <td>30 October 2017,<br/>19:34\n",
      "</td>\n",
      "1 <a href=\"/wiki/NASA\" title=\"NASA\">NASA</a> 11 False 2 LEO 3 <td>15 December 2017,<br/>15:36<sup class=\"reference\" id=\"cite_ref-234\"><a href=\"#cite_note-234\">[226]</a></sup>\n",
      "</td>\n",
      "1 <a href=\"/wiki/Iridium_Communications\" title=\"Iridium Communications\">Iridium Communications</a> 11 False 2 Polar 3 <td>23 December 2017,<br/>01:27<sup class=\"reference\" id=\"cite_ref-sfn_iridium4_237-0\"><a href=\"#cite_note-sfn_iridium4-237\">[229]</a></sup>\n",
      "</td>\n",
      "1 <a href=\"/wiki/Northrop_Grumman\" title=\"Northrop Grumman\">Northrop Grumman</a> 11 False 2 LEO 3 <td>8 January 2018,<br/>01:00<sup class=\"reference\" id=\"cite_ref-245\"><a href=\"#cite_note-245\">[237]</a></sup>\n",
      "</td>\n",
      "1 <a href=\"/wiki/SES_S.A.\" title=\"SES S.A.\">SES</a> 11 False 2 GTO 3 <td>31 January 2018,<br/>21:25<sup class=\"reference\" id=\"cite_ref-253\"><a href=\"#cite_note-253\">[244]</a></sup>\n",
      "</td>\n",
      "1 <a class=\"mw-redirect\" href=\"/wiki/Hisdesat\" title=\"Hisdesat\">Hisdesat</a> 11 False 2 SSO 3 <td>22 February 2018,<br/>14:17<sup class=\"reference\" id=\"cite_ref-276\"><a href=\"#cite_note-276\">[267]</a></sup>\n",
      "</td>\n",
      "1 <a href=\"/wiki/Hispasat\" title=\"Hispasat\">Hispasat</a> 11 False 2 GTO 3 <td>6 March 2018,<br/>05:33<sup class=\"reference\" id=\"cite_ref-:1_285-0\"><a href=\"#cite_note-:1-285\">[276]</a></sup>\n",
      "</td>\n",
      "1 <a href=\"/wiki/Iridium_Communications\" title=\"Iridium Communications\">Iridium Communications</a> 11 False 2 Polar 3 <td>30 March 2018,<br/>14:14<sup class=\"reference\" id=\"cite_ref-294\"><a href=\"#cite_note-294\">[285]</a></sup>\n",
      "</td>\n",
      "1 <a href=\"/wiki/NASA\" title=\"NASA\">NASA</a> 11 False 2 LEO 3 <td>2 April 2018,<br/>20:30<sup class=\"reference\" id=\"cite_ref-300\"><a href=\"#cite_note-300\">[291]</a></sup>\n",
      "</td>\n",
      "1 <a href=\"/wiki/NASA\" title=\"NASA\">NASA</a> 11 False 2 HEO 3 <td>18 April 2018,<br/>22:51<sup class=\"reference\" id=\"cite_ref-nsf20180418_312-0\"><a href=\"#cite_note-nsf20180418-312\">[303]</a></sup>\n",
      "</td>\n",
      "1 <a href=\"/wiki/Thales_Alenia_Space\" title=\"Thales Alenia Space\">Thales-Alenia</a> 11 False 2 GTO 3 <td>11 May 2018,<br/>20:14<sup class=\"reference\" id=\"cite_ref-319\"><a href=\"#cite_note-319\">[310]</a></sup>\n",
      "</td>\n",
      "1 <a href=\"/wiki/Iridium_Communications\" title=\"Iridium Communications\">Iridium Communications</a> 11 False 2 Polar 3 <td>22 May 2018,<br/>19:47<sup class=\"reference\" id=\"cite_ref-330\"><a href=\"#cite_note-330\">[321]</a></sup>\n",
      "</td>\n",
      "1 <a href=\"/wiki/SES_S.A.\" title=\"SES S.A.\">SES</a> 11 False 2 GTO 3 <td>4 June 2018,<br/>04:45<sup class=\"reference\" id=\"cite_ref-340\"><a href=\"#cite_note-340\">[330]</a></sup>\n",
      "</td>\n",
      "1 <a href=\"/wiki/NASA\" title=\"NASA\">NASA</a> 11 False 2 LEO 3 <td>29 June 2018,<br/>09:42<sup class=\"reference\" id=\"cite_ref-345\"><a href=\"#cite_note-345\">[335]</a></sup>\n",
      "</td>\n",
      "1 <a href=\"/wiki/Telesat\" title=\"Telesat\">Telesat</a> 11 False 2 GTO 3 <td>22 July 2018,<br/>05:50<sup class=\"reference\" id=\"cite_ref-350\"><a href=\"#cite_note-350\">[340]</a></sup>\n",
      "</td>\n",
      "1 <a href=\"/wiki/Iridium_Communications\" title=\"Iridium Communications\">Iridium Communications</a> 11 False 2 Polar 3 <td>25 July 2018,<br/>11:39<sup class=\"reference\" id=\"cite_ref-358\"><a href=\"#cite_note-358\">[348]</a></sup>\n",
      "</td>\n",
      "1 <a href=\"/wiki/Telkom_Indonesia\" title=\"Telkom Indonesia\">Telkom Indonesia</a> 11 False 2 GTO 3 <td>7 August 2018,<br/>05:18<sup class=\"reference\" id=\"cite_ref-363\"><a href=\"#cite_note-363\">[353]</a></sup>\n",
      "</td>\n",
      "1 <a href=\"/wiki/Telesat\" title=\"Telesat\">Telesat</a> 11 False 2 GTO 3 <td>10 September 2018,<br/>04:45<sup class=\"reference\" id=\"cite_ref-sfn-20180910_371-0\"><a href=\"#cite_note-sfn-20180910-371\">[361]</a></sup>\n",
      "</td>\n",
      "1 <a href=\"/wiki/Comisi%C3%B3n_Nacional_de_Actividades_Espaciales\" title=\"Comisión Nacional de Actividades Espaciales\">CONAE</a> 11 False 2 SSO 3 <td>8 October 2018,<br/>02:22<sup class=\"reference\" id=\"cite_ref-nsf-20181008_373-0\"><a href=\"#cite_note-nsf-20181008-373\">[363]</a></sup>\n",
      "</td>\n",
      "1 <a href=\"/wiki/Es%27hailSat\" title=\"Es'hailSat\">Es'hailSat</a> 11 False 2 GTO 3 <td>15 November 2018,<br/>20:46<sup class=\"reference\" id=\"cite_ref-377\"><a href=\"#cite_note-377\">[367]</a></sup>\n",
      "</td>\n",
      "1 <a href=\"/wiki/Spaceflight_Industries\" title=\"Spaceflight Industries\">Spaceflight Industries</a> 11 False 2 SSO 3 <td>3 December 2018,<br/>18:34:05\n",
      "</td>\n",
      "1 <a href=\"/wiki/NASA\" title=\"NASA\">NASA</a> 11 False 2 LEO 3 <td>5 December 2018,<br/>18:16\n",
      "</td>\n",
      "1 <a href=\"/wiki/United_States_Air_Force\" title=\"United States Air Force\">USAF</a> 11 False 2 MEO 3 <td>23 December 2018,<br/>13:51<sup class=\"reference\" id=\"cite_ref-spacenews20181223_396-0\"><a href=\"#cite_note-spacenews20181223-396\">[386]</a></sup>\n",
      "</td>\n",
      "1 <a href=\"/wiki/Iridium_Communications\" title=\"Iridium Communications\">Iridium Communications</a> 11 False 2 Polar 3 <td>11 January 2019,<br/>15:31<sup class=\"reference\" id=\"cite_ref-406\"><a href=\"#cite_note-406\">[396]</a></sup>\n",
      "</td>\n",
      "1 <a href=\"/wiki/PT_Pasifik_Satelit_Nusantara\" title=\"PT Pasifik Satelit Nusantara\">PSN</a> 11 False 2 GTO 3 <td>22 February 2019,<br/>01:45<sup class=\"reference\" id=\"cite_ref-408\"><a href=\"#cite_note-408\">[398]</a></sup>\n",
      "</td>\n",
      "1 <a href=\"/wiki/NASA\" title=\"NASA\">NASA</a> 11 False 2 LEO 3 <td>2 March 2019,<br/>07:49<sup class=\"reference\" id=\"cite_ref-:7_422-0\"><a href=\"#cite_note-:7-422\">[412]</a></sup>\n",
      "</td>\n",
      "1 <a href=\"/wiki/NASA\" title=\"NASA\">NASA</a> 11 False 2 LEO 3 <td>4 May 2019,<br/>06:48\n",
      "</td>\n",
      "1 <a href=\"/wiki/SpaceX\" title=\"SpaceX\">SpaceX</a> 11 False 2 LEO 3 <td>24 May 2019,<br/>02:30\n",
      "</td>\n",
      "1 <a href=\"/wiki/Canadian_Space_Agency\" title=\"Canadian Space Agency\">Canadian Space Agency</a> 11 False 2 SSO 3 <td>12 June 2019,<br/>14:17\n",
      "</td>\n",
      "1 <a href=\"/wiki/NASA\" title=\"NASA\">NASA</a> 11 False 2 LEO 3 <td>25 July 2019,<br/>22:01<sup class=\"reference\" id=\"cite_ref-auto5_476-0\"><a href=\"#cite_note-auto5-476\">[464]</a></sup>\n",
      "</td>\n",
      "1 <a href=\"/wiki/Spacecom\" title=\"Spacecom\">Spacecom</a> 11 False 2 GTO 3 <td>6 August 2019,<br/>23:23<sup class=\"reference\" id=\"cite_ref-483\"><a href=\"#cite_note-483\">[471]</a></sup>\n",
      "</td>\n",
      "1 <a href=\"/wiki/Spacecom\" title=\"Spacecom\">SpaceX</a> 11 False 2 LEO 3 <td>11 November 2019,<br/>14:56<sup class=\"reference\" id=\"cite_ref-491\"><a href=\"#cite_note-491\">[479]</a></sup>\n",
      "</td>\n",
      "1 <a href=\"/wiki/NASA\" title=\"NASA\">NASA</a> 11 False 2 LEO 3 <td>5 December 2019,<br/>17:29<sup class=\"reference\" id=\"cite_ref-493\"><a href=\"#cite_note-493\">[481]</a></sup>\n",
      "</td>\n",
      "1 <a class=\"mw-redirect\" href=\"/wiki/SKY_Perfect_JSAT_Group\" title=\"SKY Perfect JSAT Group\">Sky Perfect JSAT</a> 11 False 2 GTO 3 <td>17 December 2019,<br/>00:10<sup class=\"reference\" id=\"cite_ref-sjcs_498-0\"><a href=\"#cite_note-sjcs-498\">[486]</a></sup>\n",
      "</td>\n",
      "1 <a href=\"/wiki/SpaceX\" title=\"SpaceX\">SpaceX</a> 11 False 2 LEO 3 <td>7 January 2020,<br/>02:19:21<sup class=\"reference\" id=\"cite_ref-504\"><a href=\"#cite_note-504\">[492]</a></sup>\n",
      "</td>\n",
      "1 <a href=\"/wiki/NASA\" title=\"NASA\">NASA</a> 11 False 2 Sub-orbital 3 <td>19 January 2020,<br/>15:30<sup class=\"reference\" id=\"cite_ref-506\"><a href=\"#cite_note-506\">[494]</a></sup>\n",
      "</td>\n",
      "1 <a href=\"/wiki/SpaceX\" title=\"SpaceX\">SpaceX</a> 11 False 2 LEO 3 <td>29 January 2020,<br/>14:07<sup class=\"reference\" id=\"cite_ref-513\"><a href=\"#cite_note-513\">[501]</a></sup>\n",
      "</td>\n",
      "1 <a href=\"/wiki/SpaceX\" title=\"SpaceX\">SpaceX</a> 11 False 2 LEO 3 <td>17 February 2020,<br/>15:05<sup class=\"reference\" id=\"cite_ref-515\"><a href=\"#cite_note-515\">[503]</a></sup>\n",
      "</td>\n",
      "1 <a href=\"/wiki/NASA\" title=\"NASA\">NASA</a> 11 False 2 LEO 3 <td>7 March 2020,<br/>04:50<sup class=\"reference\" id=\"cite_ref-518\"><a href=\"#cite_note-518\">[506]</a></sup>\n",
      "</td>\n",
      "1 <a href=\"/wiki/SpaceX\" title=\"SpaceX\">SpaceX</a> 11 False 2 LEO 3 <td>18 March 2020,<br/>12:16<sup class=\"reference\" id=\"cite_ref-522\"><a href=\"#cite_note-522\">[510]</a></sup>\n",
      "</td>\n",
      "1 <a href=\"/wiki/SpaceX\" title=\"SpaceX\">SpaceX</a> 11 False 2 LEO 3 <td>22 April 2020,<br/>19:30<sup class=\"reference\" id=\"cite_ref-526\"><a href=\"#cite_note-526\">[514]</a></sup>\n",
      "</td>\n",
      "1 <a href=\"/wiki/NASA\" title=\"NASA\">NASA</a> 11 False 2 LEO 3 <td>30 May 2020,<br/>19:22<sup class=\"reference\" id=\"cite_ref-529\"><a href=\"#cite_note-529\">[517]</a></sup>\n",
      "</td>\n",
      "1 <a href=\"/wiki/SpaceX\" title=\"SpaceX\">SpaceX</a> 11 False 2 LEO 3 <td>4 June 2020,<br/>01:25<sup class=\"reference\" id=\"cite_ref-:16_533-0\"><a href=\"#cite_note-:16-533\">[521]</a></sup>\n",
      "</td>\n",
      "1 <a href=\"/wiki/SpaceX\" title=\"SpaceX\">SpaceX</a> 11 False 2 LEO 3 <td>13 June 2020,<br/>09:21<sup class=\"reference\" id=\"cite_ref-:17_535-0\"><a href=\"#cite_note-:17-535\">[523]</a></sup>\n",
      "</td>\n",
      "1 <a href=\"/wiki/United_States_Space_Force\" title=\"United States Space Force\">U.S. Space Force</a> 11 False 2 MEO 3 <td>30 June 2020,<br/>20:10:46<sup class=\"reference\" id=\"cite_ref-541\"><a href=\"#cite_note-541\">[529]</a></sup>\n",
      "</td>\n",
      "1 <a href=\"/wiki/Republic_of_Korea_Army\" title=\"Republic of Korea Army\">Republic of Korea Army</a> 11 False 2 GTO 3 <td>20 July 2020,<br/>21:30<sup class=\"reference\" id=\"cite_ref-SFN20200720_555-0\"><a href=\"#cite_note-SFN20200720-555\">[543]</a></sup>\n",
      "</td>\n",
      "1 <a href=\"/wiki/SpaceX\" title=\"SpaceX\">SpaceX</a> 11 False 2 LEO 3 <td>7 August 2020,<br/>05:12<sup class=\"reference\" id=\"cite_ref-561\"><a href=\"#cite_note-561\">[549]</a></sup>\n",
      "</td>\n",
      "1 <a href=\"/wiki/SpaceX\" title=\"SpaceX\">SpaceX</a> 11 False 2 LEO 3 <td>18 August 2020 <br/>14:31<sup class=\"reference\" id=\"cite_ref-565\"><a href=\"#cite_note-565\">[553]</a></sup>\n",
      "</td>\n",
      "1 <a class=\"mw-redirect\" href=\"/wiki/CONAE\" title=\"CONAE\">CONAE</a> 11 False 2 SSO 3 <td>30 August 2020<br/>23:18<sup class=\"reference\" id=\"cite_ref-567\"><a href=\"#cite_note-567\">[555]</a></sup>\n",
      "</td>\n",
      "1 <a href=\"/wiki/SpaceX\" title=\"SpaceX\">SpaceX</a> 11 False 2 LEO 3 <td>3 September 2020<br/>12:46:14<sup class=\"reference\" id=\"cite_ref-sfn-20200903_574-0\"><a href=\"#cite_note-sfn-20200903-574\">[562]</a></sup>\n",
      "</td>\n",
      "1 <a href=\"/wiki/SpaceX\" title=\"SpaceX\">SpaceX</a> 11 False 2 LEO 3 <td>6 October 2020<br/>11:29:34<sup class=\"reference\" id=\"cite_ref-576\"><a href=\"#cite_note-576\">[564]</a></sup>\n",
      "</td>\n",
      "1 <a href=\"/wiki/SpaceX\" title=\"SpaceX\">SpaceX</a> 11 False 2 LEO 3 <td>18 October 2020<br/>12:25:57<sup class=\"reference\" id=\"cite_ref-579\"><a href=\"#cite_note-579\">[567]</a></sup>\n",
      "</td>\n",
      "1 <a href=\"/wiki/SpaceX\" title=\"SpaceX\">SpaceX</a> 11 False 2 LEO 3 <td>24 October 2020<br/>15:31:34<sup class=\"reference\" id=\"cite_ref-582\"><a href=\"#cite_note-582\">[570]</a></sup>\n",
      "</td>\n",
      "1 <a href=\"/wiki/United_States_Space_Force\" title=\"United States Space Force\">USSF</a> 11 False 2 MEO 3 <td>5 November 2020<br/>23:24:23<sup class=\"reference\" id=\"cite_ref-584\"><a href=\"#cite_note-584\">[572]</a></sup>\n",
      "</td>\n",
      "1 <a href=\"/wiki/NASA\" title=\"NASA\">NASA</a> 11 False 2 LEO 3 <td>16 November 2020<br/>00:27<sup class=\"reference\" id=\"cite_ref-593\"><a href=\"#cite_note-593\">[581]</a></sup>\n",
      "</td>\n",
      "1 <a href=\"/wiki/NASA\" title=\"NASA\">NASA</a> 11 False 2 LEO 3 <td>21 November 2020<br/>17:17:08<sup class=\"reference\" id=\"cite_ref-599\"><a href=\"#cite_note-599\">[587]</a></sup>\n",
      "</td>\n",
      "1 <a href=\"/wiki/SpaceX\" title=\"SpaceX\">SpaceX</a> 11 False 2 LEO 3 <td>25 November 2020<br/>02:13<sup class=\"reference\" id=\"cite_ref-SFN20201122_601-0\"><a href=\"#cite_note-SFN20201122-601\">[589]</a></sup>\n",
      "</td>\n",
      "1 <a href=\"/wiki/NASA\" title=\"NASA\">NASA</a> 11 False 2 LEO 3 <td>6 December 2020<br/>16:17:08<sup class=\"reference\" id=\"cite_ref-603\"><a href=\"#cite_note-603\">[591]</a></sup>\n",
      "</td>\n",
      "1 <a href=\"/wiki/Sirius_XM\" title=\"Sirius XM\">Sirius XM</a> 11 False 2 GTO 3 <td>13 December 2020<br/>17:30:00<sup class=\"reference\" id=\"cite_ref-608\"><a href=\"#cite_note-608\">[596]</a></sup>\n",
      "</td>\n",
      "1 <a href=\"/wiki/National_Reconnaissance_Office\" title=\"National Reconnaissance Office\">NRO</a> 11 False 2 LEO 3 <td>19 December 2020<br/>14:00:00<sup class=\"reference\" id=\"cite_ref-SFN20201217_614-0\"><a href=\"#cite_note-SFN20201217-614\">[602]</a></sup>\n",
      "</td>\n",
      "1 <a href=\"/wiki/T%C3%BCrksat_(company)\" title=\"Türksat (company)\">Türksat</a> 11 False 2 GTO 3 <td>8 January 2021<br/>02:15<sup class=\"reference\" id=\"cite_ref-616\"><a href=\"#cite_note-616\">[604]</a></sup>\n",
      "</td>\n",
      "1 <a href=\"/wiki/SpaceX\" title=\"SpaceX\">SpaceX</a> 11 False 2 LEO 3 <td>20 January 2021<br/>13:02<sup class=\"reference\" id=\"cite_ref-620\"><a href=\"#cite_note-620\">[608]</a></sup>\n",
      "</td>\n",
      "1 <a href=\"/wiki/SpaceX\" title=\"SpaceX\">SpaceX</a> 11 False 2 LEO 3 <td>4 February 2021 <br/>06:19<sup class=\"reference\" id=\"cite_ref-635\"><a href=\"#cite_note-635\">[623]</a></sup>\n",
      "</td>\n",
      "1 <a href=\"/wiki/SpaceX\" title=\"SpaceX\">SpaceX</a> 11 False 2 LEO 3 <td>16 February 2021<br/>03:59:37<sup class=\"reference\" id=\"cite_ref-638\"><a href=\"#cite_note-638\">[626]</a></sup>\n",
      "</td>\n",
      "1 <a href=\"/wiki/SpaceX\" title=\"SpaceX\">SpaceX</a> 11 False 2 LEO 3 <td>4 March 2021<br/>08:24<sup class=\"reference\" id=\"cite_ref-645\"><a href=\"#cite_note-645\">[633]</a></sup>\n",
      "</td>\n",
      "1 <a href=\"/wiki/SpaceX\" title=\"SpaceX\">SpaceX</a> 11 False 2 LEO 3 <td>11 March 2021<br/>08:13:29<sup class=\"reference\" id=\"cite_ref-649\"><a href=\"#cite_note-649\">[637]</a></sup>\n",
      "</td>\n",
      "1 <a href=\"/wiki/SpaceX\" title=\"SpaceX\">SpaceX</a> 11 False 2 LEO 3 <td>14 March 2021<br/>10:01<sup class=\"reference\" id=\"cite_ref-652\"><a href=\"#cite_note-652\">[640]</a></sup>\n",
      "</td>\n",
      "1 <a href=\"/wiki/SpaceX\" title=\"SpaceX\">SpaceX</a> 11 False 2 LEO 3 <td>24 March 2021<br/>08:28<sup class=\"reference\" id=\"cite_ref-654\"><a href=\"#cite_note-654\">[642]</a></sup>\n",
      "</td>\n",
      "1 <a href=\"/wiki/SpaceX\" title=\"SpaceX\">SpaceX</a> 11 False 2 LEO 3 <td>7 April 2021<br/>16:34\n",
      "</td>\n",
      "1 <a href=\"/wiki/NASA\" title=\"NASA\">NASA</a> 11 False 2 LEO 3 <td>23 April 2021<br/>9:49<sup class=\"reference\" id=\"cite_ref-658\"><a href=\"#cite_note-658\">[646]</a></sup>\n",
      "</td>\n",
      "1 <a href=\"/wiki/SpaceX\" title=\"SpaceX\">SpaceX</a> 11 False 2 LEO 3 <td>29 April 2021<br/>03:44<sup class=\"reference\" id=\"cite_ref-663\"><a href=\"#cite_note-663\">[651]</a></sup>\n",
      "</td>\n",
      "1 <a href=\"/wiki/SpaceX\" title=\"SpaceX\">SpaceX</a> 11 False 2 LEO 3 <td>4 May 2021<br/>19:01<sup class=\"reference\" id=\"cite_ref-666\"><a href=\"#cite_note-666\">[654]</a></sup>\n",
      "</td>\n",
      "1 <a href=\"/wiki/SpaceX\" title=\"SpaceX\">SpaceX</a> 11 False 2 LEO 3 <td>9 May 2021<br/>06:42<sup class=\"reference\" id=\"cite_ref-668\"><a href=\"#cite_note-668\">[656]</a></sup>\n",
      "</td>\n",
      "1 <a href=\"/wiki/SpaceX\" title=\"SpaceX\">SpaceX</a> 11 False 2 LEO 3 <td>15 May 2021<br/>22:56<sup class=\"reference\" id=\"cite_ref-671\"><a href=\"#cite_note-671\">[659]</a></sup>\n",
      "</td>\n",
      "1 <a href=\"/wiki/SpaceX\" title=\"SpaceX\">SpaceX</a> 11 False 2 LEO 3 <td>26 May 2021<br/>18:59<sup class=\"reference\" id=\"cite_ref-676\"><a href=\"#cite_note-676\">[664]</a></sup>\n",
      "</td>\n",
      "1 <a href=\"/wiki/NASA\" title=\"NASA\">NASA</a> 11 False 2 LEO 3 <td>3 June 2021<br/>17:29<sup class=\"reference\" id=\"cite_ref-679\"><a href=\"#cite_note-679\">[667]</a></sup>\n",
      "</td>\n",
      "1 <a href=\"/wiki/Sirius_XM\" title=\"Sirius XM\">Sirius XM</a> 11 False 2 GTO 3 <td>6 June 2021<br/>04:26<sup class=\"reference\" id=\"cite_ref-685\"><a href=\"#cite_note-685\">[673]</a></sup>\n",
      "</td>\n"
     ]
    }
   ],
   "source": [
    "extracted_row = 0\n",
    "#Extract each table \n",
    "for table_number,table in enumerate(soup.find_all('table',\"wikitable plainrowheaders collapsible\")):\n",
    "   # get table row \n",
    "    for rows in table.find_all(\"tr\"):\n",
    "        #check to see if first table heading is as number corresponding to launch a number \n",
    "        if rows.th:\n",
    "            if rows.th.string:\n",
    "                flight_number=rows.th.string.strip()\n",
    "                flag=flight_number.isdigit()\n",
    "        else:\n",
    "            flag=False\n",
    "        #get table element \n",
    "        row=rows.find_all('td')\n",
    "        #if it is number save cells in a dictonary \n",
    "        if flag:\n",
    "            extracted_row += 1\n",
    "            # Flight Number value\n",
    "            launch_dict['Flight No.'].append(flight_number)\n",
    "            # TODO: Append the flight_number into launch_dict with key `Flight No.`\n",
    "#             print(flight_number)\n",
    "            datatimelist=date_time(row[0])\n",
    "            \n",
    "            # Date value\n",
    "            # TODO: Append the date into launch_dict with key `Date`\n",
    "            date = datatimelist[0].strip(',')\n",
    "            launch_dict['Date'].append(date)\n",
    "\n",
    "            #print(date)\n",
    "            \n",
    "            # Time value\n",
    "            # TODO: Append the time into launch_dict with key `Time`\n",
    "            time = datatimelist[1]\n",
    "            launch_dict['Time'].append(time)\n",
    "\n",
    "            #print(time)\n",
    "              \n",
    "            # Booster version\n",
    "            # TODO: Append the bv into launch_dict with key `Version Booster`\n",
    "            bv=booster_version(row[1])\n",
    "            if not(bv):\n",
    "                bv=row[1].a.string\n",
    "            launch_dict['Version Booster'].append(bv)\n",
    "\n",
    "#             print(bv)\n",
    "            \n",
    "            # Launch Site\n",
    "            # TODO: Append the bv into launch_dict with key `Launch Site`\n",
    "            launch_site = row[2].a.string\n",
    "            launch_dict['Launch site'].append(launch_site)\n",
    "\n",
    "            #print(launch_site)\n",
    "            \n",
    "            # Payload\n",
    "            # TODO: Append the payload into launch_dict with key `Payload`\n",
    "            payload = row[3].a.string\n",
    "            launch_dict['Payload'].append(payload)\n",
    "\n",
    "            #print(payload)\n",
    "            \n",
    "            # Payload Mass\n",
    "            # TODO: Append the payload_mass into launch_dict with key `Payload mass`\n",
    "            payload_mass = get_mass(row[4])\n",
    "            launch_dict['Payload mass'].append(payload_mass)\n",
    "\n",
    "            #print(payload)\n",
    "            \n",
    "            # Orbit\n",
    "            # TODO: Append the orbit into launch_dict with key `Orbit`\n",
    "            orbit = row[5].a.string\n",
    "            launch_dict['Orbit'].append(orbit)\n",
    "\n",
    "            #print(orbit)\n",
    "            \n",
    "            # Customer\n",
    "            # TODO: Append the customer into launch_dict with key `Customer`\n",
    "            \n",
    "#             print(row[6].a.string)\n",
    "            if  not (type(row[6].a)==type(None)):\n",
    "                print('1',row[6].a,'11',type(row[6].a)==type(None),'2',row[5].a.string,'3',row[0])\n",
    "                customer = row[6].a.string\n",
    "                launch_dict['Customer'].append(customer)\n",
    "            else:\n",
    "                launch_dict['Customer'].append('')\n",
    "            #print(customer)\n",
    "            \n",
    "            # Launch outcome\n",
    "            # TODO: Append the launch_outcome into launch_dict with key `Launch outcome`\n",
    "            launch_outcome = list(row[7].strings)[0]\n",
    "            launch_dict['Launch outcome'].append(launch_outcome)\n",
    "\n",
    "            #print(launch_outcome)\n",
    "            \n",
    "            # Booster landing\n",
    "            # TODO: Append the launch_outcome into launch_dict with key `Booster landing`\n",
    "            booster_landing = landing_status(row[8])\n",
    "            launch_dict['Booster landing'].append(booster_landing)\n",
    "\n",
    "            #print(booster_landing)\n",
    "            "
   ]
  },
  {
   "cell_type": "markdown",
   "metadata": {},
   "source": [
    "After you have fill in the parsed launch record values into `launch_dict`, you can create a dataframe from it.\n"
   ]
  },
  {
   "cell_type": "code",
   "execution_count": 78,
   "metadata": {},
   "outputs": [],
   "source": [
    "df=pd.DataFrame(launch_dict)"
   ]
  },
  {
   "cell_type": "code",
   "execution_count": 80,
   "metadata": {},
   "outputs": [
    {
     "data": {
      "text/html": [
       "<div>\n",
       "<style scoped>\n",
       "    .dataframe tbody tr th:only-of-type {\n",
       "        vertical-align: middle;\n",
       "    }\n",
       "\n",
       "    .dataframe tbody tr th {\n",
       "        vertical-align: top;\n",
       "    }\n",
       "\n",
       "    .dataframe thead th {\n",
       "        text-align: right;\n",
       "    }\n",
       "</style>\n",
       "<table border=\"1\" class=\"dataframe\">\n",
       "  <thead>\n",
       "    <tr style=\"text-align: right;\">\n",
       "      <th></th>\n",
       "      <th>Flight No.</th>\n",
       "      <th>Launch site</th>\n",
       "      <th>Payload</th>\n",
       "      <th>Payload mass</th>\n",
       "      <th>Orbit</th>\n",
       "      <th>Customer</th>\n",
       "      <th>Launch outcome</th>\n",
       "      <th>Version Booster</th>\n",
       "      <th>Booster landing</th>\n",
       "      <th>Date</th>\n",
       "      <th>Time</th>\n",
       "    </tr>\n",
       "  </thead>\n",
       "  <tbody>\n",
       "    <tr>\n",
       "      <th>105</th>\n",
       "      <td>106</td>\n",
       "      <td>CCSFS</td>\n",
       "      <td>Transporter-1</td>\n",
       "      <td>~5,000 kg</td>\n",
       "      <td>SSO</td>\n",
       "      <td></td>\n",
       "      <td>Success\\n</td>\n",
       "      <td>F9 B5B1058.5</td>\n",
       "      <td>Success</td>\n",
       "      <td>24 January 2021</td>\n",
       "      <td>15:00</td>\n",
       "    </tr>\n",
       "  </tbody>\n",
       "</table>\n",
       "</div>"
      ],
      "text/plain": [
       "    Flight No. Launch site        Payload Payload mass Orbit Customer  \\\n",
       "105        106       CCSFS  Transporter-1    ~5,000 kg   SSO            \n",
       "\n",
       "    Launch outcome Version Booster Booster landing             Date   Time  \n",
       "105      Success\\n    F9 B5B1058.5         Success  24 January 2021  15:00  "
      ]
     },
     "execution_count": 80,
     "metadata": {},
     "output_type": "execute_result"
    }
   ],
   "source": [
    "df[df['Customer']=='']"
   ]
  },
  {
   "cell_type": "markdown",
   "metadata": {},
   "source": [
    "We can now export it to a <b>CSV</b> for the next section, but to make the answers consistent and in case you have difficulties finishing this lab.\n",
    "\n",
    "Following labs will be using a provided dataset to make each lab independent.\n"
   ]
  },
  {
   "cell_type": "markdown",
   "metadata": {},
   "source": [
    "<code>df.to_csv('spacex_web_scraped.csv', index=False)</code>\n"
   ]
  },
  {
   "cell_type": "markdown",
   "metadata": {},
   "source": [
    "## Authors\n"
   ]
  },
  {
   "cell_type": "markdown",
   "metadata": {},
   "source": [
    "<a href=\"https://www.linkedin.com/in/yan-luo-96288783/?utm_medium=Exinfluencer&utm_source=Exinfluencer&utm_content=000026UJ&utm_term=10006555&utm_id=NA-SkillsNetwork-Channel-SkillsNetworkCoursesIBMDS0321ENSkillsNetwork26802033-2021-01-01\">Yan Luo</a>\n"
   ]
  },
  {
   "cell_type": "markdown",
   "metadata": {},
   "source": [
    "<a href=\"https://www.linkedin.com/in/nayefaboutayoun/?utm_medium=Exinfluencer&utm_source=Exinfluencer&utm_content=000026UJ&utm_term=10006555&utm_id=NA-SkillsNetwork-Channel-SkillsNetworkCoursesIBMDS0321ENSkillsNetwork26802033-2021-01-01\">Nayef Abou Tayoun</a>\n"
   ]
  },
  {
   "cell_type": "markdown",
   "metadata": {},
   "source": [
    "## Change Log\n"
   ]
  },
  {
   "cell_type": "markdown",
   "metadata": {},
   "source": [
    "| Date (YYYY-MM-DD) | Version | Changed By | Change Description          |\n",
    "| ----------------- | ------- | ---------- | --------------------------- |\n",
    "| 2021-06-09        | 1.0     | Yan Luo    | Tasks updates               |\n",
    "| 2020-11-10        | 1.0     | Nayef      | Created the initial version |\n"
   ]
  },
  {
   "cell_type": "markdown",
   "metadata": {},
   "source": [
    "Copyright © 2021 IBM Corporation. All rights reserved.\n"
   ]
  }
 ],
 "metadata": {
  "kernelspec": {
   "display_name": "Python 3 (ipykernel)",
   "language": "python",
   "name": "python3"
  },
  "language_info": {
   "codemirror_mode": {
    "name": "ipython",
    "version": 3
   },
   "file_extension": ".py",
   "mimetype": "text/x-python",
   "name": "python",
   "nbconvert_exporter": "python",
   "pygments_lexer": "ipython3",
   "version": "3.8.12"
  }
 },
 "nbformat": 4,
 "nbformat_minor": 4
}
